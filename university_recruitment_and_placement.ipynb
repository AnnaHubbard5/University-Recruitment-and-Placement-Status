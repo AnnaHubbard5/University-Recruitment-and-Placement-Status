{
  "nbformat": 4,
  "nbformat_minor": 0,
  "metadata": {
    "colab": {
      "name": "csci184_final.ipynb",
      "provenance": []
    },
    "kernelspec": {
      "name": "python3",
      "display_name": "Python 3"
    },
    "language_info": {
      "name": "python"
    }
  },
  "cells": [
    {
      "cell_type": "code",
      "execution_count": null,
      "metadata": {
        "id": "c8HQ_W16vMHb"
      },
      "outputs": [],
      "source": [
        "# Neha Annamalai, Anna Hubbard, Aaria Sethi\n",
        "# CSCI 184 Project"
      ]
    },
    {
      "cell_type": "code",
      "source": [
        "# imported libraries\n",
        "import pandas as pd\n",
        "import numpy as np\n",
        "from sklearn import preprocessing\n",
        "from sklearn.feature_selection import SelectKBest, chi2\n",
        "from sklearn.preprocessing import LabelEncoder\n",
        "from sklearn.model_selection import train_test_split\n",
        "from sklearn.naive_bayes import GaussianNB\n",
        "from sklearn import metrics\n",
        "from sklearn.ensemble import RandomForestClassifier\n",
        "import matplotlib.pyplot as plt\n",
        "from sklearn.tree import DecisionTreeClassifier\n",
        "from sklearn import tree"
      ],
      "metadata": {
        "id": "lQpbKB1tvcbV"
      },
      "execution_count": null,
      "outputs": []
    },
    {
      "cell_type": "code",
      "source": [
        "# loading data frame\n",
        "df = pd.read_csv(\"Placement_Data_Full_Class.csv\")\n",
        "df"
      ],
      "metadata": {
        "colab": {
          "base_uri": "https://localhost:8080/",
          "height": 642
        },
        "id": "tBFhz9QBvxwN",
        "outputId": "e994f1d3-d901-485e-c152-d1ec361e9e74"
      },
      "execution_count": null,
      "outputs": [
        {
          "output_type": "execute_result",
          "data": {
            "text/plain": [
              "     sl_no gender  ssc_p    ssc_b  hsc_p    hsc_b     hsc_s  degree_p  \\\n",
              "0        1      M  67.00   Others  91.00   Others  Commerce     58.00   \n",
              "1        2      M  79.33  Central  78.33   Others   Science     77.48   \n",
              "2        3      M  65.00  Central  68.00  Central      Arts     64.00   \n",
              "3        4      M  56.00  Central  52.00  Central   Science     52.00   \n",
              "4        5      M  85.80  Central  73.60  Central  Commerce     73.30   \n",
              "..     ...    ...    ...      ...    ...      ...       ...       ...   \n",
              "210    211      M  80.60   Others  82.00   Others  Commerce     77.60   \n",
              "211    212      M  58.00   Others  60.00   Others   Science     72.00   \n",
              "212    213      M  67.00   Others  67.00   Others  Commerce     73.00   \n",
              "213    214      F  74.00   Others  66.00   Others  Commerce     58.00   \n",
              "214    215      M  62.00  Central  58.00   Others   Science     53.00   \n",
              "\n",
              "      degree_t workex  etest_p specialisation  mba_p      status    salary  \n",
              "0     Sci&Tech     No     55.0         Mkt&HR  58.80      Placed  270000.0  \n",
              "1     Sci&Tech    Yes     86.5        Mkt&Fin  66.28      Placed  200000.0  \n",
              "2    Comm&Mgmt     No     75.0        Mkt&Fin  57.80      Placed  250000.0  \n",
              "3     Sci&Tech     No     66.0         Mkt&HR  59.43  Not Placed       NaN  \n",
              "4    Comm&Mgmt     No     96.8        Mkt&Fin  55.50      Placed  425000.0  \n",
              "..         ...    ...      ...            ...    ...         ...       ...  \n",
              "210  Comm&Mgmt     No     91.0        Mkt&Fin  74.49      Placed  400000.0  \n",
              "211   Sci&Tech     No     74.0        Mkt&Fin  53.62      Placed  275000.0  \n",
              "212  Comm&Mgmt    Yes     59.0        Mkt&Fin  69.72      Placed  295000.0  \n",
              "213  Comm&Mgmt     No     70.0         Mkt&HR  60.23      Placed  204000.0  \n",
              "214  Comm&Mgmt     No     89.0         Mkt&HR  60.22  Not Placed       NaN  \n",
              "\n",
              "[215 rows x 15 columns]"
            ],
            "text/html": [
              "\n",
              "  <div id=\"df-0f200838-1dc1-46cf-889e-b407b37ba0e8\">\n",
              "    <div class=\"colab-df-container\">\n",
              "      <div>\n",
              "<style scoped>\n",
              "    .dataframe tbody tr th:only-of-type {\n",
              "        vertical-align: middle;\n",
              "    }\n",
              "\n",
              "    .dataframe tbody tr th {\n",
              "        vertical-align: top;\n",
              "    }\n",
              "\n",
              "    .dataframe thead th {\n",
              "        text-align: right;\n",
              "    }\n",
              "</style>\n",
              "<table border=\"1\" class=\"dataframe\">\n",
              "  <thead>\n",
              "    <tr style=\"text-align: right;\">\n",
              "      <th></th>\n",
              "      <th>sl_no</th>\n",
              "      <th>gender</th>\n",
              "      <th>ssc_p</th>\n",
              "      <th>ssc_b</th>\n",
              "      <th>hsc_p</th>\n",
              "      <th>hsc_b</th>\n",
              "      <th>hsc_s</th>\n",
              "      <th>degree_p</th>\n",
              "      <th>degree_t</th>\n",
              "      <th>workex</th>\n",
              "      <th>etest_p</th>\n",
              "      <th>specialisation</th>\n",
              "      <th>mba_p</th>\n",
              "      <th>status</th>\n",
              "      <th>salary</th>\n",
              "    </tr>\n",
              "  </thead>\n",
              "  <tbody>\n",
              "    <tr>\n",
              "      <th>0</th>\n",
              "      <td>1</td>\n",
              "      <td>M</td>\n",
              "      <td>67.00</td>\n",
              "      <td>Others</td>\n",
              "      <td>91.00</td>\n",
              "      <td>Others</td>\n",
              "      <td>Commerce</td>\n",
              "      <td>58.00</td>\n",
              "      <td>Sci&amp;Tech</td>\n",
              "      <td>No</td>\n",
              "      <td>55.0</td>\n",
              "      <td>Mkt&amp;HR</td>\n",
              "      <td>58.80</td>\n",
              "      <td>Placed</td>\n",
              "      <td>270000.0</td>\n",
              "    </tr>\n",
              "    <tr>\n",
              "      <th>1</th>\n",
              "      <td>2</td>\n",
              "      <td>M</td>\n",
              "      <td>79.33</td>\n",
              "      <td>Central</td>\n",
              "      <td>78.33</td>\n",
              "      <td>Others</td>\n",
              "      <td>Science</td>\n",
              "      <td>77.48</td>\n",
              "      <td>Sci&amp;Tech</td>\n",
              "      <td>Yes</td>\n",
              "      <td>86.5</td>\n",
              "      <td>Mkt&amp;Fin</td>\n",
              "      <td>66.28</td>\n",
              "      <td>Placed</td>\n",
              "      <td>200000.0</td>\n",
              "    </tr>\n",
              "    <tr>\n",
              "      <th>2</th>\n",
              "      <td>3</td>\n",
              "      <td>M</td>\n",
              "      <td>65.00</td>\n",
              "      <td>Central</td>\n",
              "      <td>68.00</td>\n",
              "      <td>Central</td>\n",
              "      <td>Arts</td>\n",
              "      <td>64.00</td>\n",
              "      <td>Comm&amp;Mgmt</td>\n",
              "      <td>No</td>\n",
              "      <td>75.0</td>\n",
              "      <td>Mkt&amp;Fin</td>\n",
              "      <td>57.80</td>\n",
              "      <td>Placed</td>\n",
              "      <td>250000.0</td>\n",
              "    </tr>\n",
              "    <tr>\n",
              "      <th>3</th>\n",
              "      <td>4</td>\n",
              "      <td>M</td>\n",
              "      <td>56.00</td>\n",
              "      <td>Central</td>\n",
              "      <td>52.00</td>\n",
              "      <td>Central</td>\n",
              "      <td>Science</td>\n",
              "      <td>52.00</td>\n",
              "      <td>Sci&amp;Tech</td>\n",
              "      <td>No</td>\n",
              "      <td>66.0</td>\n",
              "      <td>Mkt&amp;HR</td>\n",
              "      <td>59.43</td>\n",
              "      <td>Not Placed</td>\n",
              "      <td>NaN</td>\n",
              "    </tr>\n",
              "    <tr>\n",
              "      <th>4</th>\n",
              "      <td>5</td>\n",
              "      <td>M</td>\n",
              "      <td>85.80</td>\n",
              "      <td>Central</td>\n",
              "      <td>73.60</td>\n",
              "      <td>Central</td>\n",
              "      <td>Commerce</td>\n",
              "      <td>73.30</td>\n",
              "      <td>Comm&amp;Mgmt</td>\n",
              "      <td>No</td>\n",
              "      <td>96.8</td>\n",
              "      <td>Mkt&amp;Fin</td>\n",
              "      <td>55.50</td>\n",
              "      <td>Placed</td>\n",
              "      <td>425000.0</td>\n",
              "    </tr>\n",
              "    <tr>\n",
              "      <th>...</th>\n",
              "      <td>...</td>\n",
              "      <td>...</td>\n",
              "      <td>...</td>\n",
              "      <td>...</td>\n",
              "      <td>...</td>\n",
              "      <td>...</td>\n",
              "      <td>...</td>\n",
              "      <td>...</td>\n",
              "      <td>...</td>\n",
              "      <td>...</td>\n",
              "      <td>...</td>\n",
              "      <td>...</td>\n",
              "      <td>...</td>\n",
              "      <td>...</td>\n",
              "      <td>...</td>\n",
              "    </tr>\n",
              "    <tr>\n",
              "      <th>210</th>\n",
              "      <td>211</td>\n",
              "      <td>M</td>\n",
              "      <td>80.60</td>\n",
              "      <td>Others</td>\n",
              "      <td>82.00</td>\n",
              "      <td>Others</td>\n",
              "      <td>Commerce</td>\n",
              "      <td>77.60</td>\n",
              "      <td>Comm&amp;Mgmt</td>\n",
              "      <td>No</td>\n",
              "      <td>91.0</td>\n",
              "      <td>Mkt&amp;Fin</td>\n",
              "      <td>74.49</td>\n",
              "      <td>Placed</td>\n",
              "      <td>400000.0</td>\n",
              "    </tr>\n",
              "    <tr>\n",
              "      <th>211</th>\n",
              "      <td>212</td>\n",
              "      <td>M</td>\n",
              "      <td>58.00</td>\n",
              "      <td>Others</td>\n",
              "      <td>60.00</td>\n",
              "      <td>Others</td>\n",
              "      <td>Science</td>\n",
              "      <td>72.00</td>\n",
              "      <td>Sci&amp;Tech</td>\n",
              "      <td>No</td>\n",
              "      <td>74.0</td>\n",
              "      <td>Mkt&amp;Fin</td>\n",
              "      <td>53.62</td>\n",
              "      <td>Placed</td>\n",
              "      <td>275000.0</td>\n",
              "    </tr>\n",
              "    <tr>\n",
              "      <th>212</th>\n",
              "      <td>213</td>\n",
              "      <td>M</td>\n",
              "      <td>67.00</td>\n",
              "      <td>Others</td>\n",
              "      <td>67.00</td>\n",
              "      <td>Others</td>\n",
              "      <td>Commerce</td>\n",
              "      <td>73.00</td>\n",
              "      <td>Comm&amp;Mgmt</td>\n",
              "      <td>Yes</td>\n",
              "      <td>59.0</td>\n",
              "      <td>Mkt&amp;Fin</td>\n",
              "      <td>69.72</td>\n",
              "      <td>Placed</td>\n",
              "      <td>295000.0</td>\n",
              "    </tr>\n",
              "    <tr>\n",
              "      <th>213</th>\n",
              "      <td>214</td>\n",
              "      <td>F</td>\n",
              "      <td>74.00</td>\n",
              "      <td>Others</td>\n",
              "      <td>66.00</td>\n",
              "      <td>Others</td>\n",
              "      <td>Commerce</td>\n",
              "      <td>58.00</td>\n",
              "      <td>Comm&amp;Mgmt</td>\n",
              "      <td>No</td>\n",
              "      <td>70.0</td>\n",
              "      <td>Mkt&amp;HR</td>\n",
              "      <td>60.23</td>\n",
              "      <td>Placed</td>\n",
              "      <td>204000.0</td>\n",
              "    </tr>\n",
              "    <tr>\n",
              "      <th>214</th>\n",
              "      <td>215</td>\n",
              "      <td>M</td>\n",
              "      <td>62.00</td>\n",
              "      <td>Central</td>\n",
              "      <td>58.00</td>\n",
              "      <td>Others</td>\n",
              "      <td>Science</td>\n",
              "      <td>53.00</td>\n",
              "      <td>Comm&amp;Mgmt</td>\n",
              "      <td>No</td>\n",
              "      <td>89.0</td>\n",
              "      <td>Mkt&amp;HR</td>\n",
              "      <td>60.22</td>\n",
              "      <td>Not Placed</td>\n",
              "      <td>NaN</td>\n",
              "    </tr>\n",
              "  </tbody>\n",
              "</table>\n",
              "<p>215 rows × 15 columns</p>\n",
              "</div>\n",
              "      <button class=\"colab-df-convert\" onclick=\"convertToInteractive('df-0f200838-1dc1-46cf-889e-b407b37ba0e8')\"\n",
              "              title=\"Convert this dataframe to an interactive table.\"\n",
              "              style=\"display:none;\">\n",
              "        \n",
              "  <svg xmlns=\"http://www.w3.org/2000/svg\" height=\"24px\"viewBox=\"0 0 24 24\"\n",
              "       width=\"24px\">\n",
              "    <path d=\"M0 0h24v24H0V0z\" fill=\"none\"/>\n",
              "    <path d=\"M18.56 5.44l.94 2.06.94-2.06 2.06-.94-2.06-.94-.94-2.06-.94 2.06-2.06.94zm-11 1L8.5 8.5l.94-2.06 2.06-.94-2.06-.94L8.5 2.5l-.94 2.06-2.06.94zm10 10l.94 2.06.94-2.06 2.06-.94-2.06-.94-.94-2.06-.94 2.06-2.06.94z\"/><path d=\"M17.41 7.96l-1.37-1.37c-.4-.4-.92-.59-1.43-.59-.52 0-1.04.2-1.43.59L10.3 9.45l-7.72 7.72c-.78.78-.78 2.05 0 2.83L4 21.41c.39.39.9.59 1.41.59.51 0 1.02-.2 1.41-.59l7.78-7.78 2.81-2.81c.8-.78.8-2.07 0-2.86zM5.41 20L4 18.59l7.72-7.72 1.47 1.35L5.41 20z\"/>\n",
              "  </svg>\n",
              "      </button>\n",
              "      \n",
              "  <style>\n",
              "    .colab-df-container {\n",
              "      display:flex;\n",
              "      flex-wrap:wrap;\n",
              "      gap: 12px;\n",
              "    }\n",
              "\n",
              "    .colab-df-convert {\n",
              "      background-color: #E8F0FE;\n",
              "      border: none;\n",
              "      border-radius: 50%;\n",
              "      cursor: pointer;\n",
              "      display: none;\n",
              "      fill: #1967D2;\n",
              "      height: 32px;\n",
              "      padding: 0 0 0 0;\n",
              "      width: 32px;\n",
              "    }\n",
              "\n",
              "    .colab-df-convert:hover {\n",
              "      background-color: #E2EBFA;\n",
              "      box-shadow: 0px 1px 2px rgba(60, 64, 67, 0.3), 0px 1px 3px 1px rgba(60, 64, 67, 0.15);\n",
              "      fill: #174EA6;\n",
              "    }\n",
              "\n",
              "    [theme=dark] .colab-df-convert {\n",
              "      background-color: #3B4455;\n",
              "      fill: #D2E3FC;\n",
              "    }\n",
              "\n",
              "    [theme=dark] .colab-df-convert:hover {\n",
              "      background-color: #434B5C;\n",
              "      box-shadow: 0px 1px 3px 1px rgba(0, 0, 0, 0.15);\n",
              "      filter: drop-shadow(0px 1px 2px rgba(0, 0, 0, 0.3));\n",
              "      fill: #FFFFFF;\n",
              "    }\n",
              "  </style>\n",
              "\n",
              "      <script>\n",
              "        const buttonEl =\n",
              "          document.querySelector('#df-0f200838-1dc1-46cf-889e-b407b37ba0e8 button.colab-df-convert');\n",
              "        buttonEl.style.display =\n",
              "          google.colab.kernel.accessAllowed ? 'block' : 'none';\n",
              "\n",
              "        async function convertToInteractive(key) {\n",
              "          const element = document.querySelector('#df-0f200838-1dc1-46cf-889e-b407b37ba0e8');\n",
              "          const dataTable =\n",
              "            await google.colab.kernel.invokeFunction('convertToInteractive',\n",
              "                                                     [key], {});\n",
              "          if (!dataTable) return;\n",
              "\n",
              "          const docLinkHtml = 'Like what you see? Visit the ' +\n",
              "            '<a target=\"_blank\" href=https://colab.research.google.com/notebooks/data_table.ipynb>data table notebook</a>'\n",
              "            + ' to learn more about interactive tables.';\n",
              "          element.innerHTML = '';\n",
              "          dataTable['output_type'] = 'display_data';\n",
              "          await google.colab.output.renderOutput(dataTable, element);\n",
              "          const docLink = document.createElement('div');\n",
              "          docLink.innerHTML = docLinkHtml;\n",
              "          element.appendChild(docLink);\n",
              "        }\n",
              "      </script>\n",
              "    </div>\n",
              "  </div>\n",
              "  "
            ]
          },
          "metadata": {},
          "execution_count": 3
        }
      ]
    },
    {
      "cell_type": "code",
      "source": [
        "for name, dtype in df.dtypes.iteritems():\n",
        "  print(name, dtype)"
      ],
      "metadata": {
        "colab": {
          "base_uri": "https://localhost:8080/"
        },
        "id": "wUk7WpTfz15l",
        "outputId": "fa8066f2-9e21-44ed-dfc2-5a652f128176"
      },
      "execution_count": null,
      "outputs": [
        {
          "output_type": "stream",
          "name": "stdout",
          "text": [
            "sl_no int64\n",
            "gender object\n",
            "ssc_p float64\n",
            "ssc_b object\n",
            "hsc_p float64\n",
            "hsc_b object\n",
            "hsc_s object\n",
            "degree_p float64\n",
            "degree_t object\n",
            "workex object\n",
            "etest_p float64\n",
            "specialisation object\n",
            "mba_p float64\n",
            "status object\n"
          ]
        }
      ]
    },
    {
      "cell_type": "code",
      "source": [
        "print(\"DF SHAPE: \")\n",
        "print(df.shape)\n",
        "print(\"\\n\")\n",
        "print(\"DATAFRAME: \")\n",
        "print(df)"
      ],
      "metadata": {
        "colab": {
          "base_uri": "https://localhost:8080/"
        },
        "id": "BSFI6RJez7SR",
        "outputId": "494c4617-e375-44a0-8bd0-7f5448ae762e"
      },
      "execution_count": null,
      "outputs": [
        {
          "output_type": "stream",
          "name": "stdout",
          "text": [
            "DF SHAPE: \n",
            "(215, 14)\n",
            "\n",
            "\n",
            "DATAFRAME: \n",
            "     sl_no gender  ssc_p    ssc_b  hsc_p    hsc_b     hsc_s  degree_p  \\\n",
            "0        1      M  67.00   Others  91.00   Others  Commerce     58.00   \n",
            "1        2      M  79.33  Central  78.33   Others   Science     77.48   \n",
            "2        3      M  65.00  Central  68.00  Central      Arts     64.00   \n",
            "3        4      M  56.00  Central  52.00  Central   Science     52.00   \n",
            "4        5      M  85.80  Central  73.60  Central  Commerce     73.30   \n",
            "..     ...    ...    ...      ...    ...      ...       ...       ...   \n",
            "210    211      M  80.60   Others  82.00   Others  Commerce     77.60   \n",
            "211    212      M  58.00   Others  60.00   Others   Science     72.00   \n",
            "212    213      M  67.00   Others  67.00   Others  Commerce     73.00   \n",
            "213    214      F  74.00   Others  66.00   Others  Commerce     58.00   \n",
            "214    215      M  62.00  Central  58.00   Others   Science     53.00   \n",
            "\n",
            "      degree_t workex  etest_p specialisation  mba_p      status  \n",
            "0     Sci&Tech     No     55.0         Mkt&HR  58.80      Placed  \n",
            "1     Sci&Tech    Yes     86.5        Mkt&Fin  66.28      Placed  \n",
            "2    Comm&Mgmt     No     75.0        Mkt&Fin  57.80      Placed  \n",
            "3     Sci&Tech     No     66.0         Mkt&HR  59.43  Not Placed  \n",
            "4    Comm&Mgmt     No     96.8        Mkt&Fin  55.50      Placed  \n",
            "..         ...    ...      ...            ...    ...         ...  \n",
            "210  Comm&Mgmt     No     91.0        Mkt&Fin  74.49      Placed  \n",
            "211   Sci&Tech     No     74.0        Mkt&Fin  53.62      Placed  \n",
            "212  Comm&Mgmt    Yes     59.0        Mkt&Fin  69.72      Placed  \n",
            "213  Comm&Mgmt     No     70.0         Mkt&HR  60.23      Placed  \n",
            "214  Comm&Mgmt     No     89.0         Mkt&HR  60.22  Not Placed  \n",
            "\n",
            "[215 rows x 14 columns]\n"
          ]
        }
      ]
    },
    {
      "cell_type": "code",
      "source": [
        "# checking for columns with missing values\n",
        "df.isnull().sum()"
      ],
      "metadata": {
        "colab": {
          "base_uri": "https://localhost:8080/"
        },
        "id": "meKYZlXJv0lw",
        "outputId": "2af2cba7-ad4e-499f-e415-9d864d470288"
      },
      "execution_count": null,
      "outputs": [
        {
          "output_type": "execute_result",
          "data": {
            "text/plain": [
              "sl_no              0\n",
              "gender             0\n",
              "ssc_p              0\n",
              "ssc_b              0\n",
              "hsc_p              0\n",
              "hsc_b              0\n",
              "hsc_s              0\n",
              "degree_p           0\n",
              "degree_t           0\n",
              "workex             0\n",
              "etest_p            0\n",
              "specialisation     0\n",
              "mba_p              0\n",
              "status             0\n",
              "salary            67\n",
              "dtype: int64"
            ]
          },
          "metadata": {},
          "execution_count": 4
        }
      ]
    },
    {
      "cell_type": "code",
      "source": [
        "# feature imputation, remove salary feature\n",
        "df = df.drop(\"salary\", axis=1)\n",
        "print(df)"
      ],
      "metadata": {
        "colab": {
          "base_uri": "https://localhost:8080/"
        },
        "id": "Y5VuPakxv0qm",
        "outputId": "5948e671-8638-48e0-fe17-414450aeebf8"
      },
      "execution_count": null,
      "outputs": [
        {
          "output_type": "stream",
          "name": "stdout",
          "text": [
            "     sl_no gender  ssc_p    ssc_b  hsc_p    hsc_b     hsc_s  degree_p  \\\n",
            "0        1      M  67.00   Others  91.00   Others  Commerce     58.00   \n",
            "1        2      M  79.33  Central  78.33   Others   Science     77.48   \n",
            "2        3      M  65.00  Central  68.00  Central      Arts     64.00   \n",
            "3        4      M  56.00  Central  52.00  Central   Science     52.00   \n",
            "4        5      M  85.80  Central  73.60  Central  Commerce     73.30   \n",
            "..     ...    ...    ...      ...    ...      ...       ...       ...   \n",
            "210    211      M  80.60   Others  82.00   Others  Commerce     77.60   \n",
            "211    212      M  58.00   Others  60.00   Others   Science     72.00   \n",
            "212    213      M  67.00   Others  67.00   Others  Commerce     73.00   \n",
            "213    214      F  74.00   Others  66.00   Others  Commerce     58.00   \n",
            "214    215      M  62.00  Central  58.00   Others   Science     53.00   \n",
            "\n",
            "      degree_t workex  etest_p specialisation  mba_p      status  \n",
            "0     Sci&Tech     No     55.0         Mkt&HR  58.80      Placed  \n",
            "1     Sci&Tech    Yes     86.5        Mkt&Fin  66.28      Placed  \n",
            "2    Comm&Mgmt     No     75.0        Mkt&Fin  57.80      Placed  \n",
            "3     Sci&Tech     No     66.0         Mkt&HR  59.43  Not Placed  \n",
            "4    Comm&Mgmt     No     96.8        Mkt&Fin  55.50      Placed  \n",
            "..         ...    ...      ...            ...    ...         ...  \n",
            "210  Comm&Mgmt     No     91.0        Mkt&Fin  74.49      Placed  \n",
            "211   Sci&Tech     No     74.0        Mkt&Fin  53.62      Placed  \n",
            "212  Comm&Mgmt    Yes     59.0        Mkt&Fin  69.72      Placed  \n",
            "213  Comm&Mgmt     No     70.0         Mkt&HR  60.23      Placed  \n",
            "214  Comm&Mgmt     No     89.0         Mkt&HR  60.22  Not Placed  \n",
            "\n",
            "[215 rows x 14 columns]\n"
          ]
        }
      ]
    },
    {
      "cell_type": "code",
      "source": [
        "#One-Hot Encoding\n",
        "X = pd.get_dummies(df.drop(\"status\", axis=1)) #one-hot\n",
        "print(X)"
      ],
      "metadata": {
        "colab": {
          "base_uri": "https://localhost:8080/"
        },
        "id": "b4oVaku-v0tD",
        "outputId": "df70fef8-33b2-4195-8074-a0cec6e79365"
      },
      "execution_count": null,
      "outputs": [
        {
          "output_type": "stream",
          "name": "stdout",
          "text": [
            "     sl_no  ssc_p  hsc_p  degree_p  etest_p  mba_p  gender_F  gender_M  \\\n",
            "0        1  67.00  91.00     58.00     55.0  58.80         0         1   \n",
            "1        2  79.33  78.33     77.48     86.5  66.28         0         1   \n",
            "2        3  65.00  68.00     64.00     75.0  57.80         0         1   \n",
            "3        4  56.00  52.00     52.00     66.0  59.43         0         1   \n",
            "4        5  85.80  73.60     73.30     96.8  55.50         0         1   \n",
            "..     ...    ...    ...       ...      ...    ...       ...       ...   \n",
            "210    211  80.60  82.00     77.60     91.0  74.49         0         1   \n",
            "211    212  58.00  60.00     72.00     74.0  53.62         0         1   \n",
            "212    213  67.00  67.00     73.00     59.0  69.72         0         1   \n",
            "213    214  74.00  66.00     58.00     70.0  60.23         1         0   \n",
            "214    215  62.00  58.00     53.00     89.0  60.22         0         1   \n",
            "\n",
            "     ssc_b_Central  ssc_b_Others  ...  hsc_s_Arts  hsc_s_Commerce  \\\n",
            "0                0             1  ...           0               1   \n",
            "1                1             0  ...           0               0   \n",
            "2                1             0  ...           1               0   \n",
            "3                1             0  ...           0               0   \n",
            "4                1             0  ...           0               1   \n",
            "..             ...           ...  ...         ...             ...   \n",
            "210              0             1  ...           0               1   \n",
            "211              0             1  ...           0               0   \n",
            "212              0             1  ...           0               1   \n",
            "213              0             1  ...           0               1   \n",
            "214              1             0  ...           0               0   \n",
            "\n",
            "     hsc_s_Science  degree_t_Comm&Mgmt  degree_t_Others  degree_t_Sci&Tech  \\\n",
            "0                0                   0                0                  1   \n",
            "1                1                   0                0                  1   \n",
            "2                0                   1                0                  0   \n",
            "3                1                   0                0                  1   \n",
            "4                0                   1                0                  0   \n",
            "..             ...                 ...              ...                ...   \n",
            "210              0                   1                0                  0   \n",
            "211              1                   0                0                  1   \n",
            "212              0                   1                0                  0   \n",
            "213              0                   1                0                  0   \n",
            "214              1                   1                0                  0   \n",
            "\n",
            "     workex_No  workex_Yes  specialisation_Mkt&Fin  specialisation_Mkt&HR  \n",
            "0            1           0                       0                      1  \n",
            "1            0           1                       1                      0  \n",
            "2            1           0                       1                      0  \n",
            "3            1           0                       0                      1  \n",
            "4            1           0                       1                      0  \n",
            "..         ...         ...                     ...                    ...  \n",
            "210          1           0                       1                      0  \n",
            "211          1           0                       1                      0  \n",
            "212          0           1                       1                      0  \n",
            "213          1           0                       0                      1  \n",
            "214          1           0                       0                      1  \n",
            "\n",
            "[215 rows x 22 columns]\n"
          ]
        }
      ]
    },
    {
      "cell_type": "code",
      "source": [
        "#Filter Feature Selection using chi-square\n",
        "y = df[\"status\"]\n",
        "X_new = SelectKBest(chi2, k=20).fit_transform(X, y)\n",
        "print(X.shape)\n",
        "print(X_new.shape)\n",
        "print(X_new[0])"
      ],
      "metadata": {
        "colab": {
          "base_uri": "https://localhost:8080/"
        },
        "id": "vsd6RoH8v0vo",
        "outputId": "8b6f9959-7297-4dc1-d0e6-eaa83163f8d3"
      },
      "execution_count": null,
      "outputs": [
        {
          "output_type": "stream",
          "name": "stdout",
          "text": [
            "(215, 22)\n",
            "(215, 20)\n",
            "[ 1.  67.  91.  58.  55.  58.8  0.   1.   0.   1.   0.   1.   0.   1.\n",
            "  0.   0.   1.   0.   0.   1. ]\n"
          ]
        }
      ]
    },
    {
      "cell_type": "code",
      "source": [
        "#Train and Test Data\n",
        "X_train, X_test, y_train, y_test = train_test_split(X_new, y, test_size=0.5, random_state=0)"
      ],
      "metadata": {
        "id": "Layjd-g7v0yK"
      },
      "execution_count": null,
      "outputs": []
    },
    {
      "cell_type": "code",
      "source": [
        "#Naive-Bayes\n",
        "gnb = GaussianNB()\n",
        "y_pred = gnb.fit(X_train, y_train).predict(X_test)\n",
        "print(\"Number of mislabeled points out of a total %d points : %d\" % (X_test.shape[0], (y_test != y_pred).sum()))"
      ],
      "metadata": {
        "colab": {
          "base_uri": "https://localhost:8080/"
        },
        "id": "3tR8n2WAv00X",
        "outputId": "9d99a4cf-c47c-42a6-8015-637b1bfbcc2f"
      },
      "execution_count": null,
      "outputs": [
        {
          "output_type": "stream",
          "name": "stdout",
          "text": [
            "Number of mislabeled points out of a total 108 points : 25\n"
          ]
        }
      ]
    },
    {
      "cell_type": "code",
      "source": [
        "#Performance Matrix\n",
        "print(metrics.classification_report(y_test, y_pred))"
      ],
      "metadata": {
        "colab": {
          "base_uri": "https://localhost:8080/"
        },
        "id": "uzM1pm8dv02w",
        "outputId": "d69fd9e1-b7b2-4182-8d34-1040e41c174d"
      },
      "execution_count": null,
      "outputs": [
        {
          "output_type": "stream",
          "name": "stdout",
          "text": [
            "              precision    recall  f1-score   support\n",
            "\n",
            "  Not Placed       0.62      0.71      0.66        34\n",
            "      Placed       0.86      0.80      0.83        74\n",
            "\n",
            "    accuracy                           0.77       108\n",
            "   macro avg       0.74      0.75      0.74       108\n",
            "weighted avg       0.78      0.77      0.77       108\n",
            "\n"
          ]
        }
      ]
    },
    {
      "cell_type": "code",
      "source": [
        "#Tain and Test Data\n",
        "y = df[\"status\"]\n",
        "X = pd.get_dummies(df.drop(\"status\", axis=1))\n",
        "X_train, X_test, y_train, y_test = train_test_split(X, y, test_size = 0.30, random_state= 123)"
      ],
      "metadata": {
        "id": "-fvbwxohv05E"
      },
      "execution_count": null,
      "outputs": []
    },
    {
      "cell_type": "code",
      "source": [
        "#Decision Tree - max depth 2\n",
        "clf = DecisionTreeClassifier(max_depth = 2, random_state = 1)\n",
        "clf.fit(X_train, y_train)\n",
        "Y_pred = clf.predict(X_test)\n",
        "\n",
        "print(\"Test accuracy: \", metrics.accuracy_score(y_test, Y_pred))\n",
        "print(\"Train accuracy: \", clf.score(X_train, y_train))"
      ],
      "metadata": {
        "colab": {
          "base_uri": "https://localhost:8080/"
        },
        "id": "UcM89jaGv07Y",
        "outputId": "6c98fbf0-9947-446f-ebe7-18cf32ebf62c"
      },
      "execution_count": null,
      "outputs": [
        {
          "output_type": "stream",
          "name": "stdout",
          "text": [
            "Test accuracy:  0.7846153846153846\n",
            "Train accuracy:  0.8466666666666667\n"
          ]
        }
      ]
    },
    {
      "cell_type": "code",
      "source": [
        "tree.plot_tree(clf)"
      ],
      "metadata": {
        "colab": {
          "base_uri": "https://localhost:8080/",
          "height": 402
        },
        "id": "LveNY0ejxpny",
        "outputId": "65991ff7-0649-471c-976d-f3cf3540335e"
      },
      "execution_count": null,
      "outputs": [
        {
          "output_type": "execute_result",
          "data": {
            "text/plain": [
              "[Text(0.5, 0.8333333333333334, 'X[1] <= 62.5\\ngini = 0.415\\nsamples = 150\\nvalue = [44, 106]'),\n",
              " Text(0.25, 0.5, 'X[2] <= 58.5\\ngini = 0.431\\nsamples = 51\\nvalue = [35, 16]'),\n",
              " Text(0.125, 0.16666666666666666, 'gini = 0.0\\nsamples = 20\\nvalue = [20, 0]'),\n",
              " Text(0.375, 0.16666666666666666, 'gini = 0.499\\nsamples = 31\\nvalue = [15, 16]'),\n",
              " Text(0.75, 0.5, 'X[2] <= 48.915\\ngini = 0.165\\nsamples = 99\\nvalue = [9, 90]'),\n",
              " Text(0.625, 0.16666666666666666, 'gini = 0.0\\nsamples = 1\\nvalue = [1, 0]'),\n",
              " Text(0.875, 0.16666666666666666, 'gini = 0.15\\nsamples = 98\\nvalue = [8, 90]')]"
            ]
          },
          "metadata": {},
          "execution_count": 19
        },
        {
          "output_type": "display_data",
          "data": {
            "text/plain": [
              "<Figure size 432x288 with 1 Axes>"
            ],
            "image/png": "[encoded data removed]"
          },
          "metadata": {
            "needs_background": "light"
          }
        }
      ]
    },
    {
      "cell_type": "code",
      "source": [
        "#Decision Tree - max depth 3\n",
        "clf = DecisionTreeClassifier(max_depth = 3, random_state = 1)\n",
        "clf.fit(X_train, y_train)\n",
        "Y_pred = clf.predict(X_test)\n",
        "\n",
        "print(\"Test accuracy: \", metrics.accuracy_score(y_test, Y_pred))\n",
        "print(\"Train accuracy: \", clf.score(X_train, y_train))"
      ],
      "metadata": {
        "colab": {
          "base_uri": "https://localhost:8080/"
        },
        "id": "miuoh7MZxSxo",
        "outputId": "40d03a09-ee90-4618-dc0a-3742c73449d3"
      },
      "execution_count": null,
      "outputs": [
        {
          "output_type": "stream",
          "name": "stdout",
          "text": [
            "Test accuracy:  0.8\n",
            "Train accuracy:  0.8866666666666667\n"
          ]
        }
      ]
    },
    {
      "cell_type": "code",
      "source": [
        "tree.plot_tree(clf)"
      ],
      "metadata": {
        "colab": {
          "base_uri": "https://localhost:8080/",
          "height": 490
        },
        "id": "8wmY-GWTxr6O",
        "outputId": "32da4cdb-911f-4d61-be9c-167e13849926"
      },
      "execution_count": null,
      "outputs": [
        {
          "output_type": "execute_result",
          "data": {
            "text/plain": [
              "[Text(0.4444444444444444, 0.875, 'X[1] <= 62.5\\ngini = 0.415\\nsamples = 150\\nvalue = [44, 106]'),\n",
              " Text(0.2222222222222222, 0.625, 'X[2] <= 58.5\\ngini = 0.431\\nsamples = 51\\nvalue = [35, 16]'),\n",
              " Text(0.1111111111111111, 0.375, 'gini = 0.0\\nsamples = 20\\nvalue = [20, 0]'),\n",
              " Text(0.3333333333333333, 0.375, 'X[3] <= 64.5\\ngini = 0.499\\nsamples = 31\\nvalue = [15, 16]'),\n",
              " Text(0.2222222222222222, 0.125, 'gini = 0.444\\nsamples = 18\\nvalue = [12, 6]'),\n",
              " Text(0.4444444444444444, 0.125, 'gini = 0.355\\nsamples = 13\\nvalue = [3, 10]'),\n",
              " Text(0.6666666666666666, 0.625, 'X[2] <= 48.915\\ngini = 0.165\\nsamples = 99\\nvalue = [9, 90]'),\n",
              " Text(0.5555555555555556, 0.375, 'gini = 0.0\\nsamples = 1\\nvalue = [1, 0]'),\n",
              " Text(0.7777777777777778, 0.375, 'X[5] <= 68.92\\ngini = 0.15\\nsamples = 98\\nvalue = [8, 90]'),\n",
              " Text(0.6666666666666666, 0.125, 'gini = 0.092\\nsamples = 83\\nvalue = [4, 79]'),\n",
              " Text(0.8888888888888888, 0.125, 'gini = 0.391\\nsamples = 15\\nvalue = [4, 11]')]"
            ]
          },
          "metadata": {},
          "execution_count": 21
        },
        {
          "output_type": "display_data",
          "data": {
            "text/plain": [
              "<Figure size 432x288 with 1 Axes>"
            ],
            "image/png": "[encoded data removed]"
          },
          "metadata": {
            "needs_background": "light"
          }
        }
      ]
    },
    {
      "cell_type": "code",
      "source": [
        "#Decision Tree - max depth 4\n",
        "clf = DecisionTreeClassifier(max_depth = 4, random_state = 1)\n",
        "clf.fit(X_train, y_train)\n",
        "Y_pred = clf.predict(X_test)\n",
        "\n",
        "print(\"Test accuracy: \", metrics.accuracy_score(y_test, Y_pred))\n",
        "print(\"Train accuracy: \", clf.score(X_train, y_train))"
      ],
      "metadata": {
        "colab": {
          "base_uri": "https://localhost:8080/"
        },
        "id": "yU3BQHi1xbP0",
        "outputId": "7a6930fd-bb84-43ec-e611-49d32852e29c"
      },
      "execution_count": null,
      "outputs": [
        {
          "output_type": "stream",
          "name": "stdout",
          "text": [
            "Test accuracy:  0.8\n",
            "Train accuracy:  0.92\n"
          ]
        }
      ]
    },
    {
      "cell_type": "code",
      "source": [
        "tree.plot_tree(clf)"
      ],
      "metadata": {
        "colab": {
          "base_uri": "https://localhost:8080/",
          "height": 666
        },
        "id": "XCOny7DFxtii",
        "outputId": "b08ccf93-40be-457a-f75c-ca24a36c2a94"
      },
      "execution_count": null,
      "outputs": [
        {
          "output_type": "execute_result",
          "data": {
            "text/plain": [
              "[Text(0.4375, 0.9, 'X[1] <= 62.5\\ngini = 0.415\\nsamples = 150\\nvalue = [44, 106]'),\n",
              " Text(0.1875, 0.7, 'X[2] <= 58.5\\ngini = 0.431\\nsamples = 51\\nvalue = [35, 16]'),\n",
              " Text(0.125, 0.5, 'gini = 0.0\\nsamples = 20\\nvalue = [20, 0]'),\n",
              " Text(0.25, 0.5, 'X[3] <= 64.5\\ngini = 0.499\\nsamples = 31\\nvalue = [15, 16]'),\n",
              " Text(0.125, 0.3, 'X[2] <= 63.5\\ngini = 0.444\\nsamples = 18\\nvalue = [12, 6]'),\n",
              " Text(0.0625, 0.1, 'gini = 0.444\\nsamples = 9\\nvalue = [3, 6]'),\n",
              " Text(0.1875, 0.1, 'gini = 0.0\\nsamples = 9\\nvalue = [9, 0]'),\n",
              " Text(0.375, 0.3, 'X[21] <= 0.5\\ngini = 0.355\\nsamples = 13\\nvalue = [3, 10]'),\n",
              " Text(0.3125, 0.1, 'gini = 0.0\\nsamples = 7\\nvalue = [0, 7]'),\n",
              " Text(0.4375, 0.1, 'gini = 0.5\\nsamples = 6\\nvalue = [3, 3]'),\n",
              " Text(0.6875, 0.7, 'X[2] <= 48.915\\ngini = 0.165\\nsamples = 99\\nvalue = [9, 90]'),\n",
              " Text(0.625, 0.5, 'gini = 0.0\\nsamples = 1\\nvalue = [1, 0]'),\n",
              " Text(0.75, 0.5, 'X[5] <= 68.92\\ngini = 0.15\\nsamples = 98\\nvalue = [8, 90]'),\n",
              " Text(0.625, 0.3, 'X[1] <= 63.5\\ngini = 0.092\\nsamples = 83\\nvalue = [4, 79]'),\n",
              " Text(0.5625, 0.1, 'gini = 0.346\\nsamples = 9\\nvalue = [2, 7]'),\n",
              " Text(0.6875, 0.1, 'gini = 0.053\\nsamples = 74\\nvalue = [2, 72]'),\n",
              " Text(0.875, 0.3, 'X[3] <= 67.6\\ngini = 0.391\\nsamples = 15\\nvalue = [4, 11]'),\n",
              " Text(0.8125, 0.1, 'gini = 0.444\\nsamples = 6\\nvalue = [4, 2]'),\n",
              " Text(0.9375, 0.1, 'gini = 0.0\\nsamples = 9\\nvalue = [0, 9]')]"
            ]
          },
          "metadata": {},
          "execution_count": 23
        },
        {
          "output_type": "display_data",
          "data": {
            "text/plain": [
              "<Figure size 432x288 with 1 Axes>"
            ],
            "image/png": "[encoded data removed]"
          },
          "metadata": {
            "needs_background": "light"
          }
        }
      ]
    },
    {
      "cell_type": "code",
      "source": [
        "ypts=[]\n",
        "xpts=[]\n",
        "for i in range(1,100):\n",
        "  clf=RandomForestClassifier(n_estimators=i, oob_score=True, bootstrap=True,random_state=0)\n",
        "  clf.fit(X, y)\n",
        "  oob_error = 1-clf.oob_score_\n",
        "  ypts.append(oob_error)\n",
        "  xpts.append(i)\n",
        "  \n",
        "plt.plot(xpts, ypts)\n",
        "plt.title(\"OOB error vs Number of Trees\")\n",
        "plt.xlabel(\"n trees\")\n",
        "plt.ylabel(\"oob error rate\")\n",
        "print(\"minimum at num trees = \", ypts.index(min(ypts)),min(ypts))\n",
        "plt.show()"
      ],
      "metadata": {
        "colab": {
          "base_uri": "https://localhost:8080/",
          "height": 866
        },
        "id": "wGOaq5Cnx0lQ",
        "outputId": "0114ef4d-eb91-40b8-aa75-39136cf036f4"
      },
      "execution_count": null,
      "outputs": [
        {
          "output_type": "stream",
          "name": "stderr",
          "text": [
            "/usr/local/lib/python3.7/dist-packages/sklearn/ensemble/_forest.py:564: UserWarning: Some inputs do not have OOB scores. This probably means too few trees were used to compute any reliable OOB estimates.\n",
            "  UserWarning,\n",
            "/usr/local/lib/python3.7/dist-packages/sklearn/ensemble/_forest.py:564: UserWarning: Some inputs do not have OOB scores. This probably means too few trees were used to compute any reliable OOB estimates.\n",
            "  UserWarning,\n",
            "/usr/local/lib/python3.7/dist-packages/sklearn/ensemble/_forest.py:564: UserWarning: Some inputs do not have OOB scores. This probably means too few trees were used to compute any reliable OOB estimates.\n",
            "  UserWarning,\n",
            "/usr/local/lib/python3.7/dist-packages/sklearn/ensemble/_forest.py:564: UserWarning: Some inputs do not have OOB scores. This probably means too few trees were used to compute any reliable OOB estimates.\n",
            "  UserWarning,\n",
            "/usr/local/lib/python3.7/dist-packages/sklearn/ensemble/_forest.py:564: UserWarning: Some inputs do not have OOB scores. This probably means too few trees were used to compute any reliable OOB estimates.\n",
            "  UserWarning,\n",
            "/usr/local/lib/python3.7/dist-packages/sklearn/ensemble/_forest.py:564: UserWarning: Some inputs do not have OOB scores. This probably means too few trees were used to compute any reliable OOB estimates.\n",
            "  UserWarning,\n",
            "/usr/local/lib/python3.7/dist-packages/sklearn/ensemble/_forest.py:564: UserWarning: Some inputs do not have OOB scores. This probably means too few trees were used to compute any reliable OOB estimates.\n",
            "  UserWarning,\n",
            "/usr/local/lib/python3.7/dist-packages/sklearn/ensemble/_forest.py:564: UserWarning: Some inputs do not have OOB scores. This probably means too few trees were used to compute any reliable OOB estimates.\n",
            "  UserWarning,\n",
            "/usr/local/lib/python3.7/dist-packages/sklearn/ensemble/_forest.py:564: UserWarning: Some inputs do not have OOB scores. This probably means too few trees were used to compute any reliable OOB estimates.\n",
            "  UserWarning,\n",
            "/usr/local/lib/python3.7/dist-packages/sklearn/ensemble/_forest.py:564: UserWarning: Some inputs do not have OOB scores. This probably means too few trees were used to compute any reliable OOB estimates.\n",
            "  UserWarning,\n",
            "/usr/local/lib/python3.7/dist-packages/sklearn/ensemble/_forest.py:564: UserWarning: Some inputs do not have OOB scores. This probably means too few trees were used to compute any reliable OOB estimates.\n",
            "  UserWarning,\n",
            "/usr/local/lib/python3.7/dist-packages/sklearn/ensemble/_forest.py:564: UserWarning: Some inputs do not have OOB scores. This probably means too few trees were used to compute any reliable OOB estimates.\n",
            "  UserWarning,\n"
          ]
        },
        {
          "output_type": "stream",
          "name": "stdout",
          "text": [
            "minimum at num trees =  17 0.13023255813953494\n"
          ]
        },
        {
          "output_type": "display_data",
          "data": {
            "text/plain": [
              "<Figure size 432x288 with 1 Axes>"
            ],
            "image/png": "[encoded data removed]"
          },
          "metadata": {
            "needs_background": "light"
          }
        }
      ]
    },
    {
      "cell_type": "code",
      "source": [
        "y = df[\"status\"]\n",
        "X = pd.get_dummies(df.drop(\"status\", axis=1))\n",
        "forest = RandomForestClassifier(n_estimators = 15, oob_score = True, bootstrap=True,random_state=0)\n",
        "forest.fit(X, y)\n",
        "\n",
        "print('OOB score: ', forest.oob_score_)\n",
        "print('OOB error: ', 1-forest.oob_score_)"
      ],
      "metadata": {
        "colab": {
          "base_uri": "https://localhost:8080/"
        },
        "id": "JiO-nTTTx0wd",
        "outputId": "48ed5955-c64a-49ba-a3a1-a3809e9deafd"
      },
      "execution_count": null,
      "outputs": [
        {
          "output_type": "stream",
          "name": "stdout",
          "text": [
            "OOB score:  0.827906976744186\n",
            "OOB error:  0.172093023255814\n"
          ]
        }
      ]
    },
    {
      "cell_type": "code",
      "source": [
        "y = df[\"status\"]\n",
        "X = pd.get_dummies(df.drop(\"status\", axis=1))\n",
        "forest = RandomForestClassifier(n_estimators = 17, oob_score = True, bootstrap=True,random_state=0)\n",
        "forest.fit(X, y)\n",
        "\n",
        "print('OOB score: ', forest.oob_score_)\n",
        "print('OOB error: ', 1-forest.oob_score_)"
      ],
      "metadata": {
        "colab": {
          "base_uri": "https://localhost:8080/"
        },
        "id": "7uYnDWSUx0zT",
        "outputId": "811dde87-b4f6-44fd-c4ec-ec2116080394"
      },
      "execution_count": null,
      "outputs": [
        {
          "output_type": "stream",
          "name": "stdout",
          "text": [
            "OOB score:  0.8558139534883721\n",
            "OOB error:  0.14418604651162792\n"
          ]
        }
      ]
    },
    {
      "cell_type": "code",
      "source": [
        "y = df[\"status\"]\n",
        "X = pd.get_dummies(df.drop(\"status\", axis=1))\n",
        "forest = RandomForestClassifier(n_estimators = 20, oob_score = True, bootstrap=True,random_state=0)\n",
        "forest.fit(X, y)\n",
        "\n",
        "print('OOB score: ', forest.oob_score_)\n",
        "print('OOB error: ', 1-forest.oob_score_)"
      ],
      "metadata": {
        "colab": {
          "base_uri": "https://localhost:8080/"
        },
        "id": "xiSh5IuIx02I",
        "outputId": "927d0d77-861a-4d07-a25b-64ab7f89f53b"
      },
      "execution_count": null,
      "outputs": [
        {
          "output_type": "stream",
          "name": "stdout",
          "text": [
            "OOB score:  0.8511627906976744\n",
            "OOB error:  0.14883720930232558\n"
          ]
        }
      ]
    }
  ]
}